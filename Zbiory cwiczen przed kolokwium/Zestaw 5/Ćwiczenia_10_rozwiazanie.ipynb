{
  "nbformat": 4,
  "nbformat_minor": 0,
  "metadata": {
    "colab": {
      "name": "Ćwiczenia_10.ipynb",
      "provenance": [],
      "collapsed_sections": []
    },
    "kernelspec": {
      "name": "python3",
      "display_name": "Python 3"
    },
    "language_info": {
      "name": "python"
    }
  },
  "cells": [
    {
      "cell_type": "markdown",
      "metadata": {
        "id": "SsgkqTmOhBJl"
      },
      "source": [
        "## Zadanie 1\n",
        "Stwórz listę liczb od 1 do 5 - bedzie to nasza bazowa lista. Następnie przygotuj: \n",
        "\n",
        "* drugą listę, która weźmie pierwsze trzy elementy z listy bazowej \n",
        "* trzecią listę, w której trzeci element listy bazowej zostanie zmieniony na 100\n",
        "* czwartą listą, gdzie lista bazowa zostanie rozszerzona o dodatkowe 2 elementy wpisane za pomocą listy. \n",
        "* piątą listę, w której z listy bazowej usunięta zostanie wartośc 4.  \n",
        "\n",
        "Wpisz kody które wydrukują każdą listę jedną po drugiej. "
      ]
    },
    {
      "cell_type": "code",
      "metadata": {
        "id": "epHJhatogvqo"
      },
      "source": [
        ""
      ],
      "execution_count": null,
      "outputs": []
    },
    {
      "cell_type": "code",
      "source": [
        ""
      ],
      "metadata": {
        "id": "xGkpxCKlPeLK"
      },
      "execution_count": null,
      "outputs": []
    },
    {
      "cell_type": "markdown",
      "metadata": {
        "id": "za-O9ZdXhBvh"
      },
      "source": [
        "## Zadanie 2: Instrukcje If, elif, else\n",
        "Do napisania jest następujący program -  użytkownik podaje numer poprzez komendę *input*. \n",
        "\n",
        "Następnie program wyświetli jedną z poniższych informacji, czy liczba jest podzielna:\n",
        "* Zarówno przez 3 i przez 5\n",
        "* Tylko przez 3\n",
        "* Tylko przez 5\n",
        "* Nie jest podzielna przez żadną z tych liczb"
      ]
    },
    {
      "cell_type": "code",
      "source": [
        ""
      ],
      "metadata": {
        "id": "RUQ_mKL0PiE7"
      },
      "execution_count": null,
      "outputs": []
    },
    {
      "cell_type": "code",
      "metadata": {
        "id": "vY2_R8BWhB8r"
      },
      "source": [
        ""
      ],
      "execution_count": null,
      "outputs": []
    },
    {
      "cell_type": "markdown",
      "metadata": {
        "id": "YjonK_vwm6Tn"
      },
      "source": [
        "## Zadanie 3: Pętla for\n",
        "Napisz pętle, która iterować będzie po elementach listy *napisy*\n",
        "\n",
        "Na podstawie jej treści zacznij budować łańcuch znaków (*string*). \n",
        "\n",
        "Podejmij następujące działania:\n",
        "* Jeżeli wyraz w liście ma 4 lub więcej 3 liter weź pierwsze dwa jego znaki\n",
        "* Jeżeli wyraz ma równo 2 lub 3 litery weź 1 znak.\n",
        "* Jeżeli wyraz ma 1 literę dodaj spację.\n",
        "\n",
        "Wyświetl ukończony obiekt string - możesz dodać na końcu znak zapytania dla utrzymania porządku.  "
      ]
    },
    {
      "cell_type": "code",
      "metadata": {
        "id": "VPsY3ZZBm619"
      },
      "source": [
        "napisy = [\"Polska\", \"z\", \"covid-19\", \"i\", \"torba\", \"a\", \"rak\",\"obronił\", \"ile\", \"ela\"]\n",
        "\n"
      ],
      "execution_count": 83,
      "outputs": []
    },
    {
      "cell_type": "code",
      "source": [
        "lancuch = \"\"\n",
        "for element in napisy:\n",
        "  if len(element) > 4:\n",
        "    lancuch += element[0:2]\n",
        "  elif len(element) == 2 or len(element) == 3 :\n",
        "    lancuch += element[0]\n",
        "  elif len(element) == 1:  \n",
        "    lancuch += \" \" \n",
        "\n",
        "print(lancuch)"
      ],
      "metadata": {
        "id": "cjtSRKByPnIU",
        "colab": {
          "base_uri": "https://localhost:8080/"
        },
        "outputId": "a3ab2297-93d2-451d-dd91-162c66550b1c"
      },
      "execution_count": 85,
      "outputs": [
        {
          "output_type": "stream",
          "name": "stdout",
          "text": [
            "Po co to robie\n"
          ]
        }
      ]
    },
    {
      "cell_type": "markdown",
      "metadata": {
        "id": "_OVH0SktpDiK"
      },
      "source": [
        "##Zadanie 4: Set albo Lista\n",
        "Sprawdź w pętli, które elemnty z listy *druzyny_do_sprawdzenia* znajduja się w zbiorze *serie_a*\n",
        "\n",
        "Dla każdego elementu wydrukuj: \n",
        "* Nazwa drużyny jest w Serie A - jeżeli drużyna znajduje się w zbiorze\n",
        "* Nazwa drużyny spadł do Serie B - jeżeli drużyny nie ma w zbiorze. \n",
        "\n",
        "\n"
      ]
    },
    {
      "cell_type": "code",
      "metadata": {
        "id": "eZ7R3W7CpnkR"
      },
      "source": [
        "druzyny_do_sprawdzenia = [\"Benevento\", \"Empoli\", \"Sassuolo\", \"AC Parma\"]\n",
        "\n",
        "serie_a = {\"Atalanta\", \"Bologna\", \"Cagliari\", \"Empoli\", \"Fiorentina\", \"Genoa\", \"Hellas Verona\", \n",
        "           \"Internazionale\", \"Juventus\", \"Lazio\", \"AC Milan\", \"Napoli\", \"Roma\",  \"Salernitana\",\n",
        "           \"Sampdoria\", \"Sassuolo\", \"Spezia\", \"Torino\", \"Udinese\", \"Venezia\" }"
      ],
      "execution_count": 86,
      "outputs": []
    },
    {
      "cell_type": "code",
      "metadata": {
        "id": "uMSsL6rypnic",
        "colab": {
          "base_uri": "https://localhost:8080/"
        },
        "outputId": "c90df86a-3a12-451e-ac45-89e5f9bde9ac"
      },
      "source": [
        "for element in druzyny_do_sprawdzenia:\n",
        "  if element in serie_a:\n",
        "    print(element, \"jest w Serie A\")\n",
        "  else:\n",
        "    print(element, \"spadł do Serie B\")\n"
      ],
      "execution_count": 88,
      "outputs": [
        {
          "output_type": "stream",
          "name": "stdout",
          "text": [
            "Benevento spadł do Serie B\n",
            "Empoli jest w Serie A\n",
            "Sassuolo jest w Serie A\n",
            "AC Parma spadł do Serie B\n"
          ]
        }
      ]
    },
    {
      "cell_type": "code",
      "source": [
        ""
      ],
      "metadata": {
        "id": "BOYNunUyI2Ri"
      },
      "execution_count": null,
      "outputs": []
    },
    {
      "cell_type": "markdown",
      "source": [
        "## Zadanie 5: Set\n",
        "\n",
        "Usuń duplikaty z listy za pomocą odpowiednich konwersji typów struktury. "
      ],
      "metadata": {
        "id": "YOK_0ZmCI22C"
      }
    },
    {
      "cell_type": "code",
      "source": [
        "miasta = [\"m. st. Warszawa\", \"m. st. Warszawa\", \"m. st. Warszawa\", \"Kraków\", \"Kraków\", \n",
        "          \"Gdańsk\", \"Gdańsk\", \"Kraków\", \"Kraków\", \"Kraków\", \"Kraków\", \"Gdańsk\", \"Gdańsk\",\n",
        "          \"Kraków\", \"Kraków\", \"Kraków\", \"Kraków\", \"Gdańsk\"]"
      ],
      "metadata": {
        "id": "FKH6gn_YI7Ug"
      },
      "execution_count": 76,
      "outputs": []
    },
    {
      "cell_type": "code",
      "source": [
        "miastaUnikaty = set(miasta) \n",
        "print(miastaUnikaty)"
      ],
      "metadata": {
        "id": "mtSoygRXI8CS",
        "colab": {
          "base_uri": "https://localhost:8080/"
        },
        "outputId": "abbd6411-54ed-412b-d2b6-c1055cf6c2ee"
      },
      "execution_count": 77,
      "outputs": [
        {
          "output_type": "stream",
          "name": "stdout",
          "text": [
            "{'Gdańsk', 'Kraków', 'm. st. Warszawa'}\n"
          ]
        }
      ]
    },
    {
      "cell_type": "markdown",
      "source": [
        "##Zadanie 6: Pętla For\n",
        "Wybierz z listy wyłącznie elementy będące tekstami. \n",
        "\n",
        "**Podpowiedź:** Wykorzystaj funkcję *isinstance*. Program można zapisać w jednej linijce kodu. "
      ],
      "metadata": {
        "id": "ZK63LH3IJDb2"
      }
    },
    {
      "cell_type": "code",
      "source": [
        "list_chaos = [\"wszyscy\", 12344, \"kłamią\", True, 1.9, 2, \"Big\", None, \"Data\"]"
      ],
      "metadata": {
        "id": "Y4JTKmrzJFiD"
      },
      "execution_count": 78,
      "outputs": []
    },
    {
      "cell_type": "code",
      "source": [
        "list_str = [element for element in list_chaos if isinstance(element, str)]\n",
        "print(*list_str)"
      ],
      "metadata": {
        "id": "XR0K2mvIJJVb",
        "colab": {
          "base_uri": "https://localhost:8080/"
        },
        "outputId": "119a20fb-e45e-482c-a307-1f6e7de80933"
      },
      "execution_count": 79,
      "outputs": [
        {
          "output_type": "stream",
          "name": "stdout",
          "text": [
            "wszyscy kłamią Big Data\n"
          ]
        }
      ]
    },
    {
      "cell_type": "markdown",
      "source": [
        "### Ćwiczenie 7\n",
        "Dany jest tekst pod zmienną txt. \n",
        "\n",
        "Wykonaj kolejne kroki:\n",
        "\n",
        "1. Zamień wszystkie litery na małe.\n",
        "2. Usuń spacje i kropkę.\n",
        "3. Utwórz zbiór składający się z wszystkich liter w tak otrzymanym tekście.\n",
        "4. Odpowiednią metodą dla zbiorów usuń z tego zbioru wszystkie samogłoski\n",
        "5. Wydrukuj liczbę elementów w tak przetworzonym zbiorze.\n"
      ],
      "metadata": {
        "id": "FTX5lq-OJsRU"
      }
    },
    {
      "cell_type": "code",
      "source": [
        "txt = 'Idzie Jan drogą do Krakowa.'"
      ],
      "metadata": {
        "id": "qKNHwRY3Jrp7"
      },
      "execution_count": 2,
      "outputs": []
    },
    {
      "cell_type": "code",
      "source": [
        "# Krok 1\n",
        "txt = txt.lower()\n",
        "\n",
        "# Krok 2\n",
        "txt = txt.replace(\" \", \"\")\n",
        "txt = txt.replace(\".\", \"\")\n",
        "print(\"Tekst po replace:\", txt)\n",
        "\n",
        "# Krok 3 \n",
        "zbior = set()\n",
        "for znak in txt:\n",
        "   zbior.add(znak)\n",
        "print(\"Zbiór podstawowy:\", zbior)\n",
        "\n",
        "# Krok 3 - prościej\n",
        "zbior = set(txt)\n",
        "#print(zbior)\n",
        "\n",
        "# Krok 4 - usun samogłoski\n",
        "samogloski = {'a', 'o', 'i', 'u', 'e', 'ą'}\n",
        "\n",
        "zbior_bez_samoglosek = zbior.difference(samogloski)\n",
        "print(\"Zbiór końcowy:\", zbior_bez_samoglosek)\n",
        "\n",
        "# Krok 5\n",
        "print(\"Liczba elementów:\", len(zbior_bez_samoglosek))"
      ],
      "metadata": {
        "id": "0ozV802hKmWi",
        "colab": {
          "base_uri": "https://localhost:8080/"
        },
        "outputId": "26221f87-0235-4611-89a8-67184b66108e"
      },
      "execution_count": 10,
      "outputs": [
        {
          "output_type": "stream",
          "name": "stdout",
          "text": [
            "Tekst po replace: idziejandrogądokrakowa\n",
            "Zbiór podstawowy: {'e', 'g', 'j', 'r', 'o', 'w', 'ą', 'k', 'z', 'i', 'd', 'n', 'a'}\n",
            "Zbiór końcowy: {'r', 'j', 'w', 'k', 'z', 'g', 'd', 'n'}\n",
            "Liczba elementów: 8\n"
          ]
        }
      ]
    },
    {
      "cell_type": "markdown",
      "source": [
        "## Ćwiczenie 8\n",
        "\n",
        "Posortuj podany obiekt typu *tuple* (od A do Z):"
      ],
      "metadata": {
        "id": "_bI8jLp8Kn_o"
      }
    },
    {
      "cell_type": "code",
      "source": [
        "imiona = ('Monika','Tomek','Adam','Olaf')"
      ],
      "metadata": {
        "id": "6Yb5PIhmKtHa"
      },
      "execution_count": null,
      "outputs": []
    },
    {
      "cell_type": "code",
      "source": [
        "b = sorted(imiona)\n",
        "print(b)"
      ],
      "metadata": {
        "id": "hFbQgZ8nKs4a",
        "colab": {
          "base_uri": "https://localhost:8080/"
        },
        "outputId": "eb474e39-0e2e-4e2a-e5f6-694f38ddf53f"
      },
      "execution_count": null,
      "outputs": [
        {
          "output_type": "stream",
          "name": "stdout",
          "text": [
            "['Adam', 'Monika', 'Olaf', 'Tomek']\n"
          ]
        }
      ]
    },
    {
      "cell_type": "markdown",
      "source": [
        "## Ćwiczenie 9\n",
        "\n",
        "Dany jest obiekt typu *tuple*. Posortuj ten obiekt (rosnąco) po drugim elemencie (wiek) każdego zagnieżdżonego obiektu *tuple*."
      ],
      "metadata": {
        "id": "TWdzi_WyK1It"
      }
    },
    {
      "cell_type": "code",
      "source": [
        "info = (('Monika', 19), ('Tomek', 21), ('Adam', 18), ('Jarek', 30))"
      ],
      "metadata": {
        "id": "XpfWBZc6LBOi"
      },
      "execution_count": 16,
      "outputs": []
    },
    {
      "cell_type": "code",
      "source": [
        "f = lambda element: element[1]\n",
        "b = sorted(info, key = f)\n",
        "print(b)\n"
      ],
      "metadata": {
        "id": "k8INfCNmLC0F",
        "colab": {
          "base_uri": "https://localhost:8080/"
        },
        "outputId": "58fb4104-f708-49c7-85c3-4d2e640afe4e"
      },
      "execution_count": 17,
      "outputs": [
        {
          "output_type": "stream",
          "name": "stdout",
          "text": [
            "[('Adam', 18), ('Monika', 19), ('Tomek', 21), ('Jarek', 30)]\n"
          ]
        }
      ]
    },
    {
      "cell_type": "code",
      "source": [
        ""
      ],
      "metadata": {
        "id": "XuVyGDjKP3g8"
      },
      "execution_count": null,
      "outputs": []
    },
    {
      "cell_type": "markdown",
      "source": [
        "## Ćwiczenie 10\n",
        "\n",
        "Podany jest słownik. Wykorzystując dict comprehension wydobądź ze słownika pary klucz:wartość o wartości powyżej 100."
      ],
      "metadata": {
        "id": "_suv2ecWLhli"
      }
    },
    {
      "cell_type": "code",
      "source": [
        "firmy = {'firma1': 22, 'firma2': 295, 'firma3':350}"
      ],
      "metadata": {
        "id": "vu7HCGJgLnn9"
      },
      "execution_count": 18,
      "outputs": []
    },
    {
      "cell_type": "code",
      "source": [
        "dict_variable = {key:value for (key,value) in firmy.items() if value > 100}\n",
        "\n",
        "print(dict_variable)\n"
      ],
      "metadata": {
        "id": "etBU9imoLoF6",
        "colab": {
          "base_uri": "https://localhost:8080/"
        },
        "outputId": "1a40e14a-c391-4bf7-b28a-59c1cc8313b5"
      },
      "execution_count": 19,
      "outputs": [
        {
          "output_type": "stream",
          "name": "stdout",
          "text": [
            "{'firma2': 295, 'firma3': 350}\n"
          ]
        }
      ]
    },
    {
      "cell_type": "code",
      "source": [
        ""
      ],
      "metadata": {
        "id": "40v43_zKP4A7"
      },
      "execution_count": null,
      "outputs": []
    },
    {
      "cell_type": "markdown",
      "source": [
        "## Ćwiczenie 11\n",
        "\n",
        "Napisz program, który znajdzie wszystkie liczby dwucyfrowe podzielne przez 11. Wynik wydrukuj do konsoli w postaci wartości rozdzielonych przecinkiem.\n",
        "\n",
        "**Oczekiwany wynik:**\n",
        "```\n",
        "11,22,33,44,55,66,77,88,99\n",
        "```"
      ],
      "metadata": {
        "id": "W4DJ3LwVM9bL"
      }
    },
    {
      "cell_type": "code",
      "source": [
        "# rozwiazanie 1\n",
        "listaWynikowa =[]\n",
        "for j in range(11,100, 11):\n",
        "  listaWynikowa.append(j)\n",
        "\n",
        "# rozwiazanie 2\n",
        "i = 1 \n",
        "listaWynikowa2 = []\n",
        "while i * 11 < 100:\n",
        "  listaWynikowa2.append(i*11)\n",
        "  i +=1 \n",
        "\n",
        "print(*listaWynikowa2, sep = ',')  \n"
      ],
      "metadata": {
        "id": "D-FRIrn6NBN0",
        "colab": {
          "base_uri": "https://localhost:8080/"
        },
        "outputId": "a339e73f-a3e8-45fc-9e4b-d49d8ec0fe0d"
      },
      "execution_count": 26,
      "outputs": [
        {
          "output_type": "stream",
          "name": "stdout",
          "text": [
            "11,22,33,44,55,66,77,88,99\n"
          ]
        }
      ]
    },
    {
      "cell_type": "code",
      "source": [
        ""
      ],
      "metadata": {
        "id": "vL0hVDbBP4xm"
      },
      "execution_count": null,
      "outputs": []
    },
    {
      "cell_type": "markdown",
      "source": [
        "## Ćwiczenie 12\n",
        "\n",
        "Napisz program, który znajdzie wszystkie liczby dwucyfrowe podzielne przez 11 oraz niepodzielne przez 3. Wynik wydrukuj do konsoli w postaci wartości rozdzielonych przecinkiem.\n",
        "\n",
        "**Oczekiwany wynik:**\n",
        "```\n",
        "11,22,44,55,77,88\n",
        "```"
      ],
      "metadata": {
        "id": "LrxjtFQ1NGHa"
      }
    },
    {
      "cell_type": "code",
      "source": [
        "# rozwiazanie 2\n",
        "i = 1 \n",
        "listaWynikowa2 = []\n",
        "while i * 11 < 100:\n",
        "  if i % 3 != 0:\n",
        "    listaWynikowa2.append(i*11)\n",
        "  i +=1 \n",
        "\n",
        "print(*listaWynikowa2, sep = ',')  "
      ],
      "metadata": {
        "id": "ouC7fM8eNJFz",
        "colab": {
          "base_uri": "https://localhost:8080/"
        },
        "outputId": "4d17b993-a9f0-488c-bdf2-93e488a31123"
      },
      "execution_count": 27,
      "outputs": [
        {
          "output_type": "stream",
          "name": "stdout",
          "text": [
            "11,22,44,55,77,88\n"
          ]
        }
      ]
    },
    {
      "cell_type": "code",
      "source": [
        ""
      ],
      "metadata": {
        "id": "arhXk2qwP5Z6"
      },
      "execution_count": null,
      "outputs": []
    },
    {
      "cell_type": "markdown",
      "source": [
        "## Ćwiczenie 13\n",
        "\n",
        "Napisz program, który z podanego tekstu wytnie dokładnie cztery pierwsze wyrazy. Zamień duże litery na małe. Wynik przedstaw w postaci listy."
      ],
      "metadata": {
        "id": "p_mQNr5XNTlo"
      }
    },
    {
      "cell_type": "code",
      "source": [
        "txt = 'Python jest bardzo popularnym językiem programowania'\n",
        "txt = txt.lower()\n",
        "listaWyrazow = txt.split()\n",
        "print(listaWyrazow)\n",
        "\n",
        "pierwszeCztery = listaWyrazow[0:4]\n",
        "print(pierwszeCztery)\n",
        "\n",
        "ostatnieDwa = listaWyrazow[4:len(listaWyrazow)]\n",
        "print(ostatnieDwa)\n"
      ],
      "metadata": {
        "id": "Czbrb9UhNb9b",
        "colab": {
          "base_uri": "https://localhost:8080/"
        },
        "outputId": "d91d3983-7702-49ce-eb68-ea1a6464266e"
      },
      "execution_count": 34,
      "outputs": [
        {
          "output_type": "stream",
          "name": "stdout",
          "text": [
            "['python', 'jest', 'bardzo', 'popularnym', 'językiem', 'programowania']\n",
            "['python', 'jest', 'bardzo', 'popularnym']\n",
            "['językiem', 'programowania']\n"
          ]
        }
      ]
    },
    {
      "cell_type": "code",
      "source": [
        ""
      ],
      "metadata": {
        "id": "0Co6lvXDNejz"
      },
      "execution_count": null,
      "outputs": []
    },
    {
      "cell_type": "code",
      "source": [
        ""
      ],
      "metadata": {
        "id": "Y_spyTyBP6Bb"
      },
      "execution_count": null,
      "outputs": []
    },
    {
      "cell_type": "markdown",
      "source": [
        "## Ćwiczenie 14\n",
        "\n",
        "Podany jest tekst. Utwórz listę słów z podanego tekstu. Następnie zamień duże litery na małe, usuń znaki interpunkcyjne. Wyciągnij tylko wyrazy z długością powyżej 10 znaków. "
      ],
      "metadata": {
        "id": "H8fyhYn1Nn-x"
      }
    },
    {
      "cell_type": "code",
      "source": [
        "text = \"\"\"Python – język programowania wysokiego poziomu\n",
        "ogólnego przeznaczenia, o rozbudowanym pakiecie bibliotek\n",
        "standardowych, którego ideą przewodnią jest czytelność i\n",
        "klarowność kodu źródłowego.\"\"\""
      ],
      "metadata": {
        "id": "ZC1u7r31Neg8"
      },
      "execution_count": 37,
      "outputs": []
    },
    {
      "cell_type": "code",
      "source": [
        "# Male znaki\n",
        "text = text.lower()\n",
        "\n",
        "# Usuń interpunkcje\n",
        "text = text.replace(\".\",\"\")\n",
        "text = text.replace(\",\",\"\")\n",
        "text = text.replace(\"–\",\"\")\n",
        "\n",
        "# lista wyrazow\n",
        "listaWyrazow = text.split()\n",
        "lista10plus = [element for element in listaWyrazow if len(element) > 10]\n",
        "print(lista10plus)\n"
      ],
      "metadata": {
        "id": "hmVTrvY_NedS",
        "colab": {
          "base_uri": "https://localhost:8080/"
        },
        "outputId": "4e019cc5-8d63-48c1-a8cd-8befca18fee0"
      },
      "execution_count": 43,
      "outputs": [
        {
          "output_type": "stream",
          "name": "stdout",
          "text": [
            "['programowania', 'przeznaczenia', 'rozbudowanym', 'standardowych']\n"
          ]
        }
      ]
    },
    {
      "cell_type": "code",
      "source": [
        ""
      ],
      "metadata": {
        "id": "m8PnISpNP6_T"
      },
      "execution_count": null,
      "outputs": []
    },
    {
      "cell_type": "markdown",
      "source": [
        "## Ćwiczenie 15\n",
        "Podana jest lista indeksów notowanych na GPW. Dokonaj iteracji po liście *indexes* oraz wydrukuj do konsoli tylko te indeksy zwierające w nazwie `'20'` lub `'30'`."
      ],
      "metadata": {
        "id": "gWc9J6H4N4_u"
      }
    },
    {
      "cell_type": "code",
      "source": [
        "indexes = [\n",
        "    'WIG', 'WIG-banki', 'WIG-budownictwo', 'WIG-CEE', \n",
        "    'WIG-chemia', 'WIG-energia', 'WIG-ESG', 'WIG-górnictwo',\n",
        "    'WIG-informatyka', 'WIG-leki', 'WIG-media', 'WIG-motoryzacja',\n",
        "    'WIG-nieruchomości', 'WIG-odzież', 'WIG-paliwa', 'WIG-Poland',\n",
        "    'WIG-spożywczy', 'WIG-telekomunikacja', 'WIG-Ukraine',\n",
        "    'WIG.GAMES', 'WIG.MS-BAS', 'WIG.MS-FIN', 'WIG.MS-PET',\n",
        "    'WIG20', 'WIG20dvp', 'WIG20lev', 'WIG20short', 'WIG20TR',\n",
        "    'WIG30', 'WIG30TR', 'WIGdiv', 'WIGtech'\n",
        "]"
      ],
      "metadata": {
        "id": "3g_Ye2XkN9Ea"
      },
      "execution_count": 45,
      "outputs": []
    },
    {
      "cell_type": "code",
      "source": [
        "indeks20_30 = [element for element in indexes if (\"20\" in element) or (\"30\" in element)]\n",
        "print(*indeks20_30) "
      ],
      "metadata": {
        "id": "zrEncbtpN97S",
        "colab": {
          "base_uri": "https://localhost:8080/"
        },
        "outputId": "0c9e1eed-14df-4251-ce8c-131c7caad944"
      },
      "execution_count": 46,
      "outputs": [
        {
          "output_type": "stream",
          "name": "stdout",
          "text": [
            "WIG20 WIG20dvp WIG20lev WIG20short WIG20TR WIG30 WIG30TR\n"
          ]
        }
      ]
    },
    {
      "cell_type": "code",
      "source": [
        ""
      ],
      "metadata": {
        "id": "xmSV2UsaQAVr"
      },
      "execution_count": null,
      "outputs": []
    },
    {
      "cell_type": "markdown",
      "metadata": {
        "id": "-Vxkvbmzwc9P"
      },
      "source": [
        "## Zadanie 16: Funkcja / Lambda\n",
        "Napisz funkcję albo wyrażenie lambda, które jako argument bierze 6 znakowy łańcuch znaków (*string*) - będzie udawać 6 pierwszych liczb z rejestru PESEL osób urodzonych przed 2000 np. 930101. \n",
        "\n",
        "Rozbijmy to tak, aby zaprezentowac datę urodzenia tj. 01 01 1993 \n",
        "\n",
        "Czyli: \n",
        "2 ostatnie liczby > spacja > 2 środkowe liczby > spacja > 19 > 2 pierwsze liczby."
      ]
    },
    {
      "cell_type": "code",
      "metadata": {
        "id": "DVytPWC8wdSi",
        "colab": {
          "base_uri": "https://localhost:8080/"
        },
        "outputId": "4f72f762-0e88-41af-fe5e-89a631e6bd69"
      },
      "source": [
        "dana = \"930101\"\n",
        "f = lambda x: x[len(x)-2: len(x)] + \" \" + x[len(x)-4: len(x)-2] + \" 19\" + x[0:2]\n",
        "\n",
        "print(f(dana))\n",
        "\n"
      ],
      "execution_count": 53,
      "outputs": [
        {
          "output_type": "stream",
          "name": "stdout",
          "text": [
            "01 01 1993\n"
          ]
        }
      ]
    },
    {
      "cell_type": "code",
      "source": [
        ""
      ],
      "metadata": {
        "id": "KZzLxxDLQBT6"
      },
      "execution_count": null,
      "outputs": []
    },
    {
      "cell_type": "markdown",
      "source": [
        "## Ćwiczenie 17\n",
        "Podana jest lista słów. Używając funkcji *map()* oraz wyrażenia *lambda* przekształć podaną listę w listę zawierającą długości poszczególnych słów.\n"
      ],
      "metadata": {
        "id": "BxgFt1YtOa4p"
      }
    },
    {
      "cell_type": "code",
      "source": [
        "slowa = ['playway', 'boombit', 'cd projekt']\n"
      ],
      "metadata": {
        "id": "KzUX_758Oh6J"
      },
      "execution_count": 57,
      "outputs": []
    },
    {
      "cell_type": "code",
      "source": [
        "f = lambda x: len(x)\n",
        "\n",
        "dlugosci = list(map(f, slowa))\n",
        "print(dlugosci)"
      ],
      "metadata": {
        "id": "bHyFsyZtOlCn",
        "colab": {
          "base_uri": "https://localhost:8080/"
        },
        "outputId": "c295000c-5eb9-4d34-b2fe-5c1588921f27"
      },
      "execution_count": 59,
      "outputs": [
        {
          "output_type": "stream",
          "name": "stdout",
          "text": [
            "[7, 7, 10]\n"
          ]
        }
      ]
    },
    {
      "cell_type": "markdown",
      "source": [
        "## Ćwiczenie 18\n",
        "Napisz funkcję *sort_list*, która uporządkuje listę składającą się z dwuelementowych obiektów typu *tuple* według drugiego elementu tupli.\n",
        "\n",
        "**Przykład działania funkcji:**\n",
        "```\n",
        "[IN]: sort_list([(1, 3), (4, 1), (4, 2), (0, 7)])\n",
        "[OUT]: [(4, 1), (4, 2), (1, 3), (0, 7)]\n",
        "```\n",
        "**Wskazówka:** Wykorzystaj funkcję `sorted()`."
      ],
      "metadata": {
        "id": "ItEFWRxTOuiK"
      }
    },
    {
      "cell_type": "code",
      "source": [
        "lista = ([(1, 3), (4, 1), (4, 2), (0, 7)])"
      ],
      "metadata": {
        "id": "zw7p_DmDOz9U"
      },
      "execution_count": 61,
      "outputs": []
    },
    {
      "cell_type": "code",
      "source": [
        "def funkcja(lista): \n",
        "  f = lambda element: element[1]\n",
        "  listaSort = sorted(lista, key = f)\n",
        "  return listaSort\n",
        "\n",
        "listaSort = funkcja(lista)\n",
        "\n",
        "print(listaSort) "
      ],
      "metadata": {
        "id": "ijT7PO7IQDqV",
        "colab": {
          "base_uri": "https://localhost:8080/"
        },
        "outputId": "71ad2c9d-89d7-4642-e38b-fad64746db28"
      },
      "execution_count": 64,
      "outputs": [
        {
          "output_type": "stream",
          "name": "stdout",
          "text": [
            "[(4, 1), (4, 2), (1, 3), (0, 7)]\n"
          ]
        }
      ]
    },
    {
      "cell_type": "markdown",
      "source": [
        "## Ćwiczenie 19\n",
        "Podana jest lista. Wykorzystując funkcję *map()* oraz wyrażenie *lambda* przekształć podaną listę w taki sposób, aby pozbyć się z każdego elementu znaku `'-'` (myślnik)."
      ],
      "metadata": {
        "id": "SKrh42ZzPGaD"
      }
    },
    {
      "cell_type": "code",
      "source": [
        "items = ['P-1', 'R-2', 'D-4', 'F-6']"
      ],
      "metadata": {
        "id": "Neo-TqavPLxN"
      },
      "execution_count": 71,
      "outputs": []
    },
    {
      "cell_type": "code",
      "source": [
        "f = lambda element : element.replace(\"-\", \"\")\n",
        "nowaLista = list(map(f, items))\n",
        "\n",
        "print(nowaLista)\n",
        "print(*nowaLista)"
      ],
      "metadata": {
        "id": "3YshfeKfPNOz",
        "colab": {
          "base_uri": "https://localhost:8080/"
        },
        "outputId": "51a486ec-61bb-41ce-cdc3-0a338b612f9c"
      },
      "execution_count": 74,
      "outputs": [
        {
          "output_type": "stream",
          "name": "stdout",
          "text": [
            "['P1', 'R2', 'D4', 'F6']\n",
            "P1 R2 D4 F6\n"
          ]
        }
      ]
    },
    {
      "cell_type": "markdown",
      "source": [
        "## Ćwiczenie 20\n",
        "Podane są dwie listy. Wykorzystując funkcję *map()* oraz wyrażenie *lambda* przekształć podane listy w jedną zawierającą resztę z dzielenia elementu pierwszej listy przez drugi element."
      ],
      "metadata": {
        "id": "gNsfanRTPSYd"
      }
    },
    {
      "cell_type": "code",
      "source": [
        "num1 = [4, 2, 6, 2, 11]\n",
        "num2 = [5, 2, 3, 3, 9]\n",
        "\n",
        "f = lambda x, y: x% y\n",
        "\n",
        "przesztalcenie = list(map(f, num1, num2))\n",
        "print(*przesztalcenie)"
      ],
      "metadata": {
        "id": "aMo_7Tq8PVor",
        "colab": {
          "base_uri": "https://localhost:8080/"
        },
        "outputId": "8685e387-bf1d-41c4-edc9-259ead77fe4f"
      },
      "execution_count": 75,
      "outputs": [
        {
          "output_type": "stream",
          "name": "stdout",
          "text": [
            "4 0 0 2 2\n"
          ]
        }
      ]
    }
  ]
}