{
 "cells": [
  {
   "cell_type": "markdown",
   "metadata": {
    "id": "0RvSxf2Z4iJQ"
   },
   "source": [
    "### Zadanie 1\n",
    "\n",
    "Dodaj do listy 2 elementy, aby prezentowane liczby stanowiły ciąg Fibonacciego tj. każda kolejna liczba jest sumą dwóch poprzednich"
   ]
  },
  {
   "cell_type": "code",
   "execution_count": null,
   "metadata": {
    "id": "C-PNk73l4icz"
   },
   "outputs": [],
   "source": [
    "lista_Fibo = [1, 1, 3, 5, 8, 21, 34]\n",
    "\n",
    "\n",
    "\n",
    "print(lista_Fibo)"
   ]
  },
  {
   "cell_type": "markdown",
   "metadata": {
    "id": "54pZt4F5dq3W"
   },
   "source": [
    "### Zadanie 2\n",
    "\n",
    "Zadanie sprawdza czy rozumiesz jak działają różne komendy wstawiania obserwacji do listy. Wstaw takie wartości a i b, aby obie zmienne binarne zwróciły wartość True."
   ]
  },
  {
   "cell_type": "code",
   "execution_count": null,
   "metadata": {
    "id": "jA6jeXIFeGHj"
   },
   "outputs": [],
   "source": [
    "a = \n",
    "b = "
   ]
  },
  {
   "cell_type": "code",
   "execution_count": null,
   "metadata": {
    "id": "QMlO_7PxdYEf"
   },
   "outputs": [],
   "source": [
    "czlon1 = [1, 2]\n",
    "czlon2 = [1.2, 3.4, 5.6]\n",
    "czlon3 = ['a', 'b', 'c', 'd']\n",
    "\n",
    "lista1 = []\n",
    "lista2 = []\n",
    "\n",
    "lista1.append(czlon1)\n",
    "lista1.append(czlon2)\n",
    "lista1.append(czlon3)\n",
    "\n",
    "lista2.extend(czlon1)\n",
    "lista2.extend(czlon2)\n",
    "lista2.extend(czlon3)\n",
    "\n",
    "IsCorrectSize1 = a == len(lista1)\n",
    "IsCorrectSize2 = b == len(lista2)\n",
    "\n",
    "print(IsCorrectSize1, IsCorrectSize2, sep =\"\\t\")"
   ]
  },
  {
   "cell_type": "markdown",
   "metadata": {
    "id": "w0b_lxCgfMXH"
   },
   "source": [
    "### Zadanie 3\n",
    "\n",
    "Usuń z listy klubów Premier League drużyny z Liverpoolu (Liverpool, Everton).\n",
    "\n",
    "Wydrukuj elementy listy oddzielone dwoma gwiazdkami.\n",
    "\n",
    "**Podpowiedź:** Waato użyć komendy print wraz z rozpakowaniem listy "
   ]
  },
  {
   "cell_type": "code",
   "execution_count": null,
   "metadata": {
    "id": "suuKXxrIfL5x"
   },
   "outputs": [],
   "source": [
    "PremierLeagueTable = ['Chelsea', 'Liverpool', 'Manchester City', 'Manchester United', 'Everton', 'Brighton & Hove Albion', 'Brentford', 'Tottenham Hotspur', 'West Ham United', 'Aston Villa']"
   ]
  },
  {
   "cell_type": "markdown",
   "metadata": {
    "id": "Y89qXlLxiOOU"
   },
   "source": [
    "Stwórzy dwie nowe listy za pomocą komend poznanych na zajęciach:   \n",
    "\n",
    "Lista Kluby_ropa powinna zawierać elementy 'Chelsea' i 'Manchester City'\n",
    "\n",
    "Lista Kluby_tradycja powinna zawierać elementy 'Manchester United' i 'Tottenham Hotspur'"
   ]
  },
  {
   "cell_type": "code",
   "execution_count": null,
   "metadata": {
    "id": "kq4UtteWiOv7"
   },
   "outputs": [],
   "source": [
    "Kluby_ropa =  \n",
    "\n",
    "Kluby_tradycja = "
   ]
  },
  {
   "cell_type": "markdown",
   "metadata": {
    "id": "L68hsh3Q6GrX"
   },
   "source": [
    "### Zadanie 4\n",
    "\n",
    "Popraw kod ISO Włoch (ITA) wykorzystując komendy poznane na zajęciach o typie String.\n",
    "\n",
    "Użyk kombinacji koment sortowania i odwracania listy, tak aby Polska (POL) znajdowała się na pierwszym miejscu. "
   ]
  },
  {
   "cell_type": "code",
   "execution_count": null,
   "metadata": {
    "id": "YRMpytY_6HIV"
   },
   "outputs": [],
   "source": [
    "lista_skroty = [\"KOR\", \"POL\", \"GER\", \"FRA\", \"ita\"]"
   ]
  },
  {
   "cell_type": "markdown",
   "metadata": {
    "id": "k3VsDKDb8kmg"
   },
   "source": [
    "### Zadanie 5\n",
    "\n",
    "Poniższy kod wygeneruje listę losowych liczb. Długość listy będzie uzależniona od losowania z 5 długości. Będą się one wahać od 20 do 30 elementów:"
   ]
  },
  {
   "cell_type": "code",
   "execution_count": null,
   "metadata": {
    "id": "EFPtGhnJ9aks"
   },
   "outputs": [],
   "source": [
    "# Ten Kod nie wymaga waszej ingerencji - po prostu go uruchomcie\n",
    "import random\n",
    "rozmiary_list = [20, 23, 25, 27, 30]\n",
    "\n",
    "dlugosc_listy = random.choice(rozmiary_list) \n",
    "\n",
    "losowa_lista = []\n",
    "for i in range(0,dlugosc_listy):\n",
    "  n = random.randint(1,30)\n",
    "  losowa_lista.append(n)\n",
    "\n",
    "print(losowa_lista)"
   ]
  },
  {
   "cell_type": "markdown",
   "metadata": {
    "id": "VRz7eGXV_Hmi"
   },
   "source": [
    "Napisz taki kod, aby zawsze poprawnie drukował: \n",
    "\n",
    "* 3 od końca element listy \n",
    "* 5 i 6 od końca element listy\n",
    "\n",
    "***Podpowiedzi:*** Użyj funkcji len() i ujemnego indeksowania "
   ]
  },
  {
   "cell_type": "code",
   "execution_count": null,
   "metadata": {
    "id": "wjqQvOiE_umP"
   },
   "outputs": [],
   "source": []
  }
 ],
 "metadata": {
  "colab": {
   "authorship_tag": "ABX9TyM56T7Xv5LjnNxDCy2rFGxb",
   "collapsed_sections": [],
   "name": "Zajecia2_Refresher.ipynb",
   "provenance": [],
   "toc_visible": true
  },
  "kernelspec": {
   "display_name": "Python 3",
   "language": "python",
   "name": "python3"
  },
  "language_info": {
   "codemirror_mode": {
    "name": "ipython",
    "version": 3
   },
   "file_extension": ".py",
   "mimetype": "text/x-python",
   "name": "python",
   "nbconvert_exporter": "python",
   "pygments_lexer": "ipython3",
   "version": "3.8.10"
  }
 },
 "nbformat": 4,
 "nbformat_minor": 4
}
