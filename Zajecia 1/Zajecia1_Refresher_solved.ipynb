{
 "cells": [
  {
   "cell_type": "markdown",
   "metadata": {
    "id": "cXsKIW3oZnni"
   },
   "source": [
    "###Zadanie 1\n",
    "Wstaw takie wartości a, b i c, aby wszystkie zmienne binarne zwróciły wartość True \n",
    "\n",
    "Podpowiedzi (równanie 2):\n",
    "* Instrukcja not zmienia wartość z True na False i odwrotnie.\n",
    "* Aby zmienna binarna przyjęła wartość False musi odpowiadać jej równanie dające wynik 0. "
   ]
  },
  {
   "cell_type": "code",
   "execution_count": 1,
   "metadata": {
    "id": "xWcLpth7Zl8Q"
   },
   "outputs": [
    {
     "name": "stdout",
     "output_type": "stream",
     "text": [
      "True\tTrue\tTrue\n"
     ]
    }
   ],
   "source": [
    "a = 12\n",
    "b = 15\n",
    "c = 81\n",
    "\n",
    "IsEquation1_Solved =  a == 180/5/3\n",
    "IsEquation2_Solved = not((b / 3) - 5)\n",
    "\n",
    "#Nieco trudniejsze:\n",
    "IsEquation3_Solved =  c == 3**2*3**2 \n",
    "\n",
    "print(IsEquation1_Solved, IsEquation2_Solved, IsEquation3_Solved, sep = '\\t')"
   ]
  },
  {
   "cell_type": "markdown",
   "metadata": {
    "id": "I49EnKJhbRy8"
   },
   "source": [
    "### Zadanie 2\n",
    "Wykonaj polecenie o które prosi zmienna Text\n",
    "\n",
    "Podpowiedzi: \n",
    "* Instrukcja len() pomoże Ci określić ile znaków pobrać.\n",
    "* Potrzebny będzie operator podwójnego dzielenia (//) oraz odwołanie do konkretnych znaków ([])"
   ]
  },
  {
   "cell_type": "code",
   "execution_count": 2,
   "metadata": {
    "id": "w4GDq_jkbRjI"
   },
   "outputs": [
    {
     "name": "stdout",
     "output_type": "stream",
     "text": [
      "Wydru\n"
     ]
    }
   ],
   "source": [
    "Text = \"Wydrukuj pierwszych 10% znaków z zawartosci tego tekstu\"\n",
    "\n",
    "iloscElementow = len(Text)//10\n",
    "print(Text[0:iloscElementow])\n"
   ]
  },
  {
   "cell_type": "markdown",
   "metadata": {
    "id": "Npcttb0Tgvj6"
   },
   "source": [
    "### Zadanie 3\n",
    "Jaki będzie wynik działania w drugiej linijce kodu?\n",
    "\n",
    "Co należy wpisać w argumenty funkcji format, aby wyświetlić różne reprezentacje liczby b?\n",
    "* Podopowiedź 1: zapisy w nawiasach :b oraz :x nie wpływają na liczbę argumentów, które należy przekazać funkcji. Informują tylko żeby pokazać numer w innym systemie niż dziesiętny. "
   ]
  },
  {
   "cell_type": "code",
   "execution_count": 3,
   "metadata": {
    "id": "UDlTbXBWdQZ9"
   },
   "outputs": [
    {
     "name": "stdout",
     "output_type": "stream",
     "text": [
      "Binarna reprezentacja liczby 16 to 10000, a heksadecymalna 10\n"
     ]
    }
   ],
   "source": [
    "a = 16.99\n",
    "b = int(a)\n",
    "print(\"Binarna reprezentacja liczby {} to {:b}, a heksadecymalna {:x}\".format(b,b,b))\n"
   ]
  },
  {
   "cell_type": "markdown",
   "metadata": {
    "id": "PjkJKTUThOfS"
   },
   "source": [
    "### Zadanie 4\n",
    "Zmień rozszerzenie zmiennej fileName z txt na pdf. Usuń też zbędne spacje. \n",
    "\n",
    "Skonstruuj pełną ścieżkę łącząc zmienne fileDirectory i fileName"
   ]
  },
  {
   "cell_type": "code",
   "execution_count": 6,
   "metadata": {
    "id": "7ATnUVwRigw9"
   },
   "outputs": [
    {
     "name": "stdout",
     "output_type": "stream",
     "text": [
      "TajnyPlik.txt\n",
      "TajnyPlik.pdf\n",
      "C:/TajnyPlik.pdf\n"
     ]
    }
   ],
   "source": [
    "filePath = \"C:/\"\n",
    "\n",
    "fileName = \"  TajnyPlik.txt  \"\n",
    "fileName = fileName.strip()\n",
    "print(fileName)\n",
    "\n",
    "fileName = fileName.replace(\".txt\", \".pdf\")\n",
    "print(fileName)\n",
    "\n",
    "print(filePath + fileName)\n"
   ]
  },
  {
   "cell_type": "markdown",
   "metadata": {
    "id": "hRXk0APpuWyZ"
   },
   "source": [
    "### Zadanie 5\n",
    "Rozdziel tekst wykorzystując metodę split (separator |). Wydrukuj kolejne części w instrukcji print. Każde słowo oddziel nową linią."
   ]
  },
  {
   "cell_type": "code",
   "execution_count": 8,
   "metadata": {
    "id": "y_hzLeEvuWQb"
   },
   "outputs": [
    {
     "name": "stdout",
     "output_type": "stream",
     "text": [
      "Polski \n",
      "Angielski\n",
      "Niemiecki\n"
     ]
    }
   ],
   "source": [
    "textToSplit = \"Polski | Angielski | Niemiecki\"\n",
    "lista = textToSplit.split(sep=\"|\", maxsplit=-1)\n",
    "print(lista[0])\n",
    "print(lista[1].strip())\n",
    "print(lista[2].strip())"
   ]
  }
 ],
 "metadata": {
  "colab": {
   "authorship_tag": "ABX9TyOGGWGbBn/lcZoZa2UELogN",
   "collapsed_sections": [],
   "name": "Zajecia1_Refresher.ipynb",
   "provenance": []
  },
  "kernelspec": {
   "display_name": "Python 3",
   "language": "python",
   "name": "python3"
  },
  "language_info": {
   "codemirror_mode": {
    "name": "ipython",
    "version": 3
   },
   "file_extension": ".py",
   "mimetype": "text/x-python",
   "name": "python",
   "nbconvert_exporter": "python",
   "pygments_lexer": "ipython3",
   "version": "3.8.8"
  }
 },
 "nbformat": 4,
 "nbformat_minor": 4
}
